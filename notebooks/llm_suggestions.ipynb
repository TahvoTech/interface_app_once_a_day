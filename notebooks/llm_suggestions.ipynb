{
 "cells": [
  {
   "cell_type": "code",
   "execution_count": 3,
   "metadata": {},
   "outputs": [
    {
     "ename": "ValueError",
     "evalue": "Cohere API key not found. Please set it in the .env file.",
     "output_type": "error",
     "traceback": [
      "\u001b[1;31m---------------------------------------------------------------------------\u001b[0m",
      "\u001b[1;31mValueError\u001b[0m                                Traceback (most recent call last)",
      "Cell \u001b[1;32mIn[3], line 13\u001b[0m\n\u001b[0;32m     11\u001b[0m cohere_api_key \u001b[38;5;241m=\u001b[39m os\u001b[38;5;241m.\u001b[39mgetenv(\u001b[38;5;124m'\u001b[39m\u001b[38;5;124mCOHERE_API_KEY\u001b[39m\u001b[38;5;124m'\u001b[39m)\n\u001b[0;32m     12\u001b[0m \u001b[38;5;28;01mif\u001b[39;00m \u001b[38;5;129;01mnot\u001b[39;00m cohere_api_key:\n\u001b[1;32m---> 13\u001b[0m     \u001b[38;5;28;01mraise\u001b[39;00m \u001b[38;5;167;01mValueError\u001b[39;00m(\u001b[38;5;124m\"\u001b[39m\u001b[38;5;124mCohere API key not found. Please set it in the .env file.\u001b[39m\u001b[38;5;124m\"\u001b[39m)\n\u001b[0;32m     15\u001b[0m cohere_client \u001b[38;5;241m=\u001b[39m cohere\u001b[38;5;241m.\u001b[39mClient(cohere_api_key)\n\u001b[0;32m     17\u001b[0m \u001b[38;5;28;01mclass\u001b[39;00m \u001b[38;5;21;01mLLMInterface\u001b[39;00m:\n",
      "\u001b[1;31mValueError\u001b[0m: Cohere API key not found. Please set it in the .env file."
     ]
    }
   ],
   "source": [
    "import cohere\n",
    "from langchain_cohere import ChatCohere\n",
    "from langchain_core.messages import HumanMessage, SystemMessage\n",
    "from dotenv import load_dotenv\n",
    "import os\n",
    "\n",
    "# Load environment variables from .env file\n",
    "load_dotenv()\n",
    "\n",
    "# Access the Cohere API key from environment variables\n",
    "cohere_api_key = os.getenv('COHERE_API_KEY')\n",
    "if not cohere_api_key:\n",
    "    raise ValueError(\"Cohere API key not found. Please set it in the .env file.\")\n",
    "\n",
    "cohere_client = cohere.Client(cohere_api_key)\n",
    "\n",
    "class LLMInterface:\n",
    "    def query(self, prompt):\n",
    "        try:\n",
    "            response = cohere_client.generate(prompt=prompt)\n",
    "            return response.generations[0].text\n",
    "        except Exception as e:\n",
    "            print(f\"Error querying Cohere API: {e}\")\n",
    "            return None\n",
    "\n",
    "class LangChainModel:\n",
    "    def __init__(self, llm_interface):\n",
    "        self.llm_interface = llm_interface\n",
    "\n",
    "    def get_suggestions(self, parameters):\n",
    "        prompt = self.create_prompt(parameters)\n",
    "        return self.llm_interface.query(prompt)\n",
    "\n",
    "    def create_prompt(self, parameters):\n",
    "        prompt = \"Generate suggestions based on the following parameters:\\n\"\n",
    "        for param in parameters:\n",
    "            prompt += f\"{param['name']}: {param['description']}\\n\"\n",
    "        return prompt\n",
    "\n",
    "parameters = [\n",
    "    {\"name\": \"Relevance\", \"description\": \"Measures how relevant the suggested application is to current market trends and user needs.\"},\n",
    "    {\"name\": \"Profitability\", \"description\": \"Estimates the potential revenue that the suggested application could generate.\"},\n",
    "    {\"name\": \"Complexity\", \"description\": \"Assesses the technical complexity involved in developing the suggested application.\"},\n",
    "    {\"name\": \"User Engagement\", \"description\": \"Predicts the level of user engagement and retention for the suggested application.\"},\n",
    "    {\"name\": \"Development Time\", \"description\": \"Estimates the time required to develop the suggested application.\"}\n",
    "]\n",
    "\n",
    "llm_interface = LLMInterface()\n",
    "langchain_model = LangChainModel(llm_interface)\n",
    "\n",
    "suggestions = langchain_model.get_suggestions(parameters)\n",
    "if suggestions:\n",
    "    print(suggestions)\n",
    "else:\n",
    "    print(\"Failed to get suggestions.\")"
   ]
  },
  {
   "cell_type": "code",
   "execution_count": null,
   "metadata": {},
   "outputs": [],
   "source": []
  }
 ],
 "metadata": {
  "kernelspec": {
   "display_name": "interface_app_env",
   "language": "python",
   "name": "python3"
  },
  "language_info": {
   "codemirror_mode": {
    "name": "ipython",
    "version": 3
   },
   "file_extension": ".py",
   "mimetype": "text/x-python",
   "name": "python",
   "nbconvert_exporter": "python",
   "pygments_lexer": "ipython3",
   "version": "3.11.11"
  }
 },
 "nbformat": 4,
 "nbformat_minor": 2
}
